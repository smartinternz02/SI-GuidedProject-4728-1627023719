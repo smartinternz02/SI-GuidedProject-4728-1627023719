{
 "cells": [
  {
   "cell_type": "code",
   "execution_count": 1,
   "metadata": {},
   "outputs": [],
   "source": [
    "from tensorflow.keras.models import Sequential\n",
    "from tensorflow.keras.layers import Dense,Convolution2D,MaxPooling2D,Flatten\n",
    "from tensorflow.keras.layers import Dropout"
   ]
  },
  {
   "cell_type": "code",
   "execution_count": 2,
   "metadata": {},
   "outputs": [],
   "source": [
    "from tensorflow.keras.preprocessing.image import ImageDataGenerator\n",
    "train_datagen=ImageDataGenerator(rescale=1./255,shear_range=0.2,zoom_range=0.2,horizontal_flip=True)\n",
    "test_datagen=ImageDataGenerator(rescale=1./255)"
   ]
  },
  {
   "cell_type": "code",
   "execution_count": 3,
   "metadata": {},
   "outputs": [
    {
     "name": "stdout",
     "output_type": "stream",
     "text": [
      "Found 8796 images belonging to 9 classes.\n",
      "Found 3416 images belonging to 9 classes.\n"
     ]
    }
   ],
   "source": [
    "x_train=train_datagen.flow_from_directory(r'D:\\ai\\Veg-dataset\\train_set',target_size=(64,64),batch_size=32,class_mode=\"categorical\")\n",
    "x_test=test_datagen.flow_from_directory(r'D:\\ai\\Veg-dataset\\test_set',target_size=(64,64),batch_size=32,class_mode=\"categorical\")"
   ]
  },
  {
   "cell_type": "code",
   "execution_count": 4,
   "metadata": {},
   "outputs": [
    {
     "data": {
      "text/plain": [
       "{'Pepper,_bell___Bacterial_spot': 0,\n",
       " 'Pepper,_bell___healthy': 1,\n",
       " 'Potato___Early_blight': 2,\n",
       " 'Potato___Late_blight': 3,\n",
       " 'Potato___healthy': 4,\n",
       " 'Tomato___Bacterial_spot': 5,\n",
       " 'Tomato___Late_blight': 6,\n",
       " 'Tomato___Leaf_Mold': 7,\n",
       " 'Tomato___Septoria_leaf_spot': 8}"
      ]
     },
     "execution_count": 4,
     "metadata": {},
     "output_type": "execute_result"
    }
   ],
   "source": [
    "x_train.class_indices"
   ]
  },
  {
   "cell_type": "code",
   "execution_count": 5,
   "metadata": {},
   "outputs": [],
   "source": [
    "model=Sequential()"
   ]
  },
  {
   "cell_type": "code",
   "execution_count": 6,
   "metadata": {},
   "outputs": [
    {
     "name": "stdout",
     "output_type": "stream",
     "text": [
      "WARNING:tensorflow:From C:\\Users\\medha\\Anaconda3\\lib\\site-packages\\tensorflow\\python\\ops\\init_ops.py:1251: calling VarianceScaling.__init__ (from tensorflow.python.ops.init_ops) with dtype is deprecated and will be removed in a future version.\n",
      "Instructions for updating:\n",
      "Call initializer instance with the dtype argument instead of passing it to the constructor\n"
     ]
    }
   ],
   "source": [
    "model.add(Convolution2D(32,(3,3),input_shape=(64,64,3)))"
   ]
  },
  {
   "cell_type": "code",
   "execution_count": 7,
   "metadata": {},
   "outputs": [],
   "source": [
    "model.add(MaxPooling2D((2,2)))"
   ]
  },
  {
   "cell_type": "code",
   "execution_count": 8,
   "metadata": {},
   "outputs": [],
   "source": [
    "model.add(Flatten())"
   ]
  },
  {
   "cell_type": "code",
   "execution_count": 9,
   "metadata": {},
   "outputs": [
    {
     "name": "stdout",
     "output_type": "stream",
     "text": [
      "WARNING:tensorflow:From C:\\Users\\medha\\Anaconda3\\lib\\site-packages\\tensorflow\\python\\keras\\initializers.py:119: calling RandomUniform.__init__ (from tensorflow.python.ops.init_ops) with dtype is deprecated and will be removed in a future version.\n",
      "Instructions for updating:\n",
      "Call initializer instance with the dtype argument instead of passing it to the constructor\n"
     ]
    }
   ],
   "source": [
    "model.add(Dense(units = 128, kernel_initializer =\"uniform\", activation =\"relu\"))"
   ]
  },
  {
   "cell_type": "code",
   "execution_count": 10,
   "metadata": {},
   "outputs": [],
   "source": [
    "model.add(Dense(units = 64, kernel_initializer =\"uniform\", activation =\"relu\"))"
   ]
  },
  {
   "cell_type": "code",
   "execution_count": 11,
   "metadata": {},
   "outputs": [],
   "source": [
    "model.add(Dropout(0.2))"
   ]
  },
  {
   "cell_type": "code",
   "execution_count": 12,
   "metadata": {},
   "outputs": [],
   "source": [
    "model.add(Dense(units = 32,kernel_initializer =\"uniform\", activation =\"relu\"))"
   ]
  },
  {
   "cell_type": "code",
   "execution_count": 13,
   "metadata": {},
   "outputs": [],
   "source": [
    "model.add(Dropout(0.2))"
   ]
  },
  {
   "cell_type": "code",
   "execution_count": 14,
   "metadata": {},
   "outputs": [],
   "source": [
    "model.add(Dense(units=9,kernel_initializer=\"random_uniform\",activation=\"softmax\"))"
   ]
  },
  {
   "cell_type": "code",
   "execution_count": 15,
   "metadata": {},
   "outputs": [],
   "source": [
    "model.compile(optimizer=\"adam\",loss=\"categorical_crossentropy\",metrics=[\"accuracy\"])"
   ]
  },
  {
   "cell_type": "code",
   "execution_count": 16,
   "metadata": {},
   "outputs": [
    {
     "name": "stdout",
     "output_type": "stream",
     "text": [
      "Epoch 1/50\n",
      "200/200 [==============================] - 47s 234ms/step - loss: 2.0894 - acc: 0.1704 - val_loss: 1.8821 - val_acc: 0.2453\n",
      "Epoch 2/50\n",
      "200/200 [==============================] - 26s 132ms/step - loss: 1.4958 - acc: 0.4550 - val_loss: 1.2677 - val_acc: 0.5531\n",
      "Epoch 3/50\n",
      "200/200 [==============================] - 28s 141ms/step - loss: 1.1476 - acc: 0.5900 - val_loss: 1.0969 - val_acc: 0.6078\n",
      "Epoch 4/50\n",
      "200/200 [==============================] - 25s 126ms/step - loss: 0.9742 - acc: 0.6637 - val_loss: 0.8058 - val_acc: 0.6906\n",
      "Epoch 5/50\n",
      "200/200 [==============================] - 27s 134ms/step - loss: 0.8912 - acc: 0.6847 - val_loss: 0.9146 - val_acc: 0.6812\n",
      "Epoch 6/50\n",
      "200/200 [==============================] - 32s 161ms/step - loss: 0.7956 - acc: 0.7289 - val_loss: 0.7537 - val_acc: 0.7281\n",
      "Epoch 7/50\n",
      "200/200 [==============================] - 33s 165ms/step - loss: 0.7368 - acc: 0.7473 - val_loss: 0.6765 - val_acc: 0.7656\n",
      "Epoch 8/50\n",
      "200/200 [==============================] - 35s 174ms/step - loss: 0.7182 - acc: 0.7519 - val_loss: 0.5038 - val_acc: 0.8406\n",
      "Epoch 9/50\n",
      "200/200 [==============================] - 30s 151ms/step - loss: 0.6595 - acc: 0.7822 - val_loss: 0.6088 - val_acc: 0.7750\n",
      "Epoch 10/50\n",
      "200/200 [==============================] - 31s 156ms/step - loss: 0.6032 - acc: 0.7981 - val_loss: 0.9918 - val_acc: 0.6859\n",
      "Epoch 11/50\n",
      "200/200 [==============================] - 29s 147ms/step - loss: 0.5897 - acc: 0.8046 - val_loss: 0.7447 - val_acc: 0.7703\n",
      "Epoch 12/50\n",
      "200/200 [==============================] - 35s 175ms/step - loss: 0.5406 - acc: 0.8241 - val_loss: 0.6069 - val_acc: 0.8000\n",
      "Epoch 13/50\n",
      "200/200 [==============================] - 33s 164ms/step - loss: 0.5202 - acc: 0.8216 - val_loss: 0.6564 - val_acc: 0.7750\n",
      "Epoch 14/50\n",
      "200/200 [==============================] - 31s 155ms/step - loss: 0.4849 - acc: 0.8373 - val_loss: 0.4378 - val_acc: 0.8594\n",
      "Epoch 15/50\n",
      "200/200 [==============================] - 34s 171ms/step - loss: 0.4647 - acc: 0.8444 - val_loss: 0.4493 - val_acc: 0.8422\n",
      "Epoch 16/50\n",
      "200/200 [==============================] - 37s 183ms/step - loss: 0.4487 - acc: 0.8493 - val_loss: 0.4271 - val_acc: 0.8531\n",
      "Epoch 17/50\n",
      "200/200 [==============================] - 32s 160ms/step - loss: 0.4122 - acc: 0.8617 - val_loss: 0.5301 - val_acc: 0.8297\n",
      "Epoch 18/50\n",
      "200/200 [==============================] - 32s 161ms/step - loss: 0.4470 - acc: 0.8535 - val_loss: 0.6576 - val_acc: 0.7953\n",
      "Epoch 19/50\n",
      "200/200 [==============================] - 30s 151ms/step - loss: 0.4095 - acc: 0.8655 - val_loss: 0.3978 - val_acc: 0.8875\n",
      "Epoch 20/50\n",
      "200/200 [==============================] - 30s 148ms/step - loss: 0.3807 - acc: 0.8758 - val_loss: 0.5486 - val_acc: 0.8234\n",
      "Epoch 21/50\n",
      "200/200 [==============================] - 31s 153ms/step - loss: 0.3749 - acc: 0.8763 - val_loss: 0.3432 - val_acc: 0.8797\n",
      "Epoch 22/50\n",
      "200/200 [==============================] - 39s 194ms/step - loss: 0.3638 - acc: 0.8834 - val_loss: 0.7647 - val_acc: 0.7750\n",
      "Epoch 23/50\n",
      "200/200 [==============================] - 36s 180ms/step - loss: 0.3436 - acc: 0.8873 - val_loss: 0.5031 - val_acc: 0.8516\n",
      "Epoch 24/50\n",
      "200/200 [==============================] - 35s 173ms/step - loss: 0.3466 - acc: 0.8927 - val_loss: 0.4862 - val_acc: 0.8313\n",
      "Epoch 25/50\n",
      "200/200 [==============================] - 32s 158ms/step - loss: 0.3447 - acc: 0.8866 - val_loss: 0.3944 - val_acc: 0.8766\n",
      "Epoch 26/50\n",
      "200/200 [==============================] - 31s 155ms/step - loss: 0.3071 - acc: 0.8995 - val_loss: 0.4565 - val_acc: 0.8594\n",
      "Epoch 27/50\n",
      "200/200 [==============================] - 31s 156ms/step - loss: 0.3105 - acc: 0.8997 - val_loss: 0.7265 - val_acc: 0.7984\n",
      "Epoch 28/50\n",
      "200/200 [==============================] - 30s 148ms/step - loss: 0.3114 - acc: 0.9001 - val_loss: 0.6568 - val_acc: 0.8109\n",
      "Epoch 29/50\n",
      "200/200 [==============================] - 31s 154ms/step - loss: 0.2971 - acc: 0.9054 - val_loss: 0.3994 - val_acc: 0.8734\n",
      "Epoch 30/50\n",
      "200/200 [==============================] - 29s 146ms/step - loss: 0.2805 - acc: 0.9114 - val_loss: 0.5886 - val_acc: 0.8219\n",
      "Epoch 31/50\n",
      "200/200 [==============================] - 32s 158ms/step - loss: 0.3021 - acc: 0.9013 - val_loss: 0.3688 - val_acc: 0.8859\n",
      "Epoch 32/50\n",
      "200/200 [==============================] - 39s 195ms/step - loss: 0.2649 - acc: 0.9173 - val_loss: 0.4048 - val_acc: 0.8797\n",
      "Epoch 33/50\n",
      "200/200 [==============================] - 99s 493ms/step - loss: 0.2791 - acc: 0.9128 - val_loss: 0.6876 - val_acc: 0.8031\n",
      "Epoch 34/50\n",
      "200/200 [==============================] - 27s 137ms/step - loss: 0.2634 - acc: 0.9153 - val_loss: 0.5676 - val_acc: 0.8344\n",
      "Epoch 35/50\n",
      "200/200 [==============================] - 33s 163ms/step - loss: 0.2469 - acc: 0.9190 - val_loss: 0.4040 - val_acc: 0.8828\n",
      "Epoch 36/50\n",
      "200/200 [==============================] - 34s 171ms/step - loss: 0.3192 - acc: 0.8984 - val_loss: 0.4151 - val_acc: 0.8687\n",
      "Epoch 37/50\n",
      "200/200 [==============================] - 43s 217ms/step - loss: 0.2348 - acc: 0.9232 - val_loss: 0.5804 - val_acc: 0.8438\n",
      "Epoch 38/50\n",
      "200/200 [==============================] - 57s 287ms/step - loss: 0.2591 - acc: 0.9129 - val_loss: 0.4048 - val_acc: 0.8687\n",
      "Epoch 39/50\n",
      "200/200 [==============================] - 57s 287ms/step - loss: 0.2460 - acc: 0.9200 - val_loss: 0.3291 - val_acc: 0.8938\n",
      "Epoch 40/50\n",
      "200/200 [==============================] - 52s 258ms/step - loss: 0.2433 - acc: 0.9217 - val_loss: 0.6167 - val_acc: 0.8203\n",
      "Epoch 41/50\n",
      "200/200 [==============================] - 61s 304ms/step - loss: 0.2331 - acc: 0.9264 - val_loss: 0.6849 - val_acc: 0.8297\n",
      "Epoch 42/50\n",
      "200/200 [==============================] - 57s 285ms/step - loss: 0.2349 - acc: 0.9293 - val_loss: 0.4063 - val_acc: 0.8719\n",
      "Epoch 43/50\n",
      "200/200 [==============================] - 53s 263ms/step - loss: 0.2061 - acc: 0.9323 - val_loss: 0.3482 - val_acc: 0.8922\n",
      "Epoch 44/50\n",
      "200/200 [==============================] - 38s 192ms/step - loss: 0.2294 - acc: 0.9293 - val_loss: 0.3033 - val_acc: 0.9000\n",
      "Epoch 45/50\n",
      "200/200 [==============================] - 32s 158ms/step - loss: 0.2107 - acc: 0.9306 - val_loss: 0.4417 - val_acc: 0.8703\n",
      "Epoch 46/50\n",
      "200/200 [==============================] - 39s 194ms/step - loss: 0.2115 - acc: 0.9260 - val_loss: 0.4931 - val_acc: 0.8625\n",
      "Epoch 47/50\n",
      "200/200 [==============================] - 57s 287ms/step - loss: 0.2231 - acc: 0.9278 - val_loss: 0.4872 - val_acc: 0.8531\n",
      "Epoch 48/50\n",
      "200/200 [==============================] - 62s 310ms/step - loss: 0.2238 - acc: 0.9256 - val_loss: 0.2829 - val_acc: 0.9297\n",
      "Epoch 49/50\n",
      "200/200 [==============================] - 71s 356ms/step - loss: 0.1926 - acc: 0.9360 - val_loss: 0.4925 - val_acc: 0.8750\n",
      "Epoch 50/50\n",
      "200/200 [==============================] - 66s 332ms/step - loss: 0.2119 - acc: 0.9322 - val_loss: 0.2991 - val_acc: 0.9078\n"
     ]
    },
    {
     "data": {
      "text/plain": [
       "<tensorflow.python.keras.callbacks.History at 0x147018dd5f8>"
      ]
     },
     "execution_count": 16,
     "metadata": {},
     "output_type": "execute_result"
    }
   ],
   "source": [
    "model.fit_generator(x_train,steps_per_epoch=200,epochs=50,validation_data=x_test,validation_steps=20)"
   ]
  },
  {
   "cell_type": "code",
   "execution_count": 20,
   "metadata": {},
   "outputs": [
    {
     "ename": "RuntimeError",
     "evalue": "Can't decrement id ref count (unable to extend file properly)",
     "output_type": "error",
     "traceback": [
      "\u001b[1;31m---------------------------------------------------------------------------\u001b[0m",
      "\u001b[1;31mOSError\u001b[0m                                   Traceback (most recent call last)",
      "\u001b[1;32m~\\Anaconda3\\lib\\site-packages\\tensorflow\\python\\keras\\saving\\hdf5_format.py\u001b[0m in \u001b[0;36msave_model_to_hdf5\u001b[1;34m(model, filepath, overwrite, include_optimizer)\u001b[0m\n\u001b[0;32m    104\u001b[0m     \u001b[0mmodel_layers\u001b[0m \u001b[1;33m=\u001b[0m \u001b[0mmodel\u001b[0m\u001b[1;33m.\u001b[0m\u001b[0mlayers\u001b[0m\u001b[1;33m\u001b[0m\u001b[1;33m\u001b[0m\u001b[0m\n\u001b[1;32m--> 105\u001b[1;33m     \u001b[0msave_weights_to_hdf5_group\u001b[0m\u001b[1;33m(\u001b[0m\u001b[0mmodel_weights_group\u001b[0m\u001b[1;33m,\u001b[0m \u001b[0mmodel_layers\u001b[0m\u001b[1;33m)\u001b[0m\u001b[1;33m\u001b[0m\u001b[1;33m\u001b[0m\u001b[0m\n\u001b[0m\u001b[0;32m    106\u001b[0m \u001b[1;33m\u001b[0m\u001b[0m\n",
      "\u001b[1;32m~\\Anaconda3\\lib\\site-packages\\tensorflow\\python\\keras\\saving\\hdf5_format.py\u001b[0m in \u001b[0;36msave_weights_to_hdf5_group\u001b[1;34m(f, layers)\u001b[0m\n\u001b[0;32m    695\u001b[0m       \u001b[1;32melse\u001b[0m\u001b[1;33m:\u001b[0m\u001b[1;33m\u001b[0m\u001b[1;33m\u001b[0m\u001b[0m\n\u001b[1;32m--> 696\u001b[1;33m         \u001b[0mparam_dset\u001b[0m\u001b[1;33m[\u001b[0m\u001b[1;33m:\u001b[0m\u001b[1;33m]\u001b[0m \u001b[1;33m=\u001b[0m \u001b[0mval\u001b[0m\u001b[1;33m\u001b[0m\u001b[1;33m\u001b[0m\u001b[0m\n\u001b[0m\u001b[0;32m    697\u001b[0m \u001b[1;33m\u001b[0m\u001b[0m\n",
      "\u001b[1;32mh5py\\_objects.pyx\u001b[0m in \u001b[0;36mh5py._objects.with_phil.wrapper\u001b[1;34m()\u001b[0m\n",
      "\u001b[1;32mh5py\\_objects.pyx\u001b[0m in \u001b[0;36mh5py._objects.with_phil.wrapper\u001b[1;34m()\u001b[0m\n",
      "\u001b[1;32m~\\Anaconda3\\lib\\site-packages\\h5py\\_hl\\dataset.py\u001b[0m in \u001b[0;36m__setitem__\u001b[1;34m(self, args, val)\u001b[0m\n\u001b[0;32m    631\u001b[0m         \u001b[1;32mfor\u001b[0m \u001b[0mfspace\u001b[0m \u001b[1;32min\u001b[0m \u001b[0mselection\u001b[0m\u001b[1;33m.\u001b[0m\u001b[0mbroadcast\u001b[0m\u001b[1;33m(\u001b[0m\u001b[0mmshape\u001b[0m\u001b[1;33m)\u001b[0m\u001b[1;33m:\u001b[0m\u001b[1;33m\u001b[0m\u001b[1;33m\u001b[0m\u001b[0m\n\u001b[1;32m--> 632\u001b[1;33m             \u001b[0mself\u001b[0m\u001b[1;33m.\u001b[0m\u001b[0mid\u001b[0m\u001b[1;33m.\u001b[0m\u001b[0mwrite\u001b[0m\u001b[1;33m(\u001b[0m\u001b[0mmspace\u001b[0m\u001b[1;33m,\u001b[0m \u001b[0mfspace\u001b[0m\u001b[1;33m,\u001b[0m \u001b[0mval\u001b[0m\u001b[1;33m,\u001b[0m \u001b[0mmtype\u001b[0m\u001b[1;33m,\u001b[0m \u001b[0mdxpl\u001b[0m\u001b[1;33m=\u001b[0m\u001b[0mself\u001b[0m\u001b[1;33m.\u001b[0m\u001b[0m_dxpl\u001b[0m\u001b[1;33m)\u001b[0m\u001b[1;33m\u001b[0m\u001b[1;33m\u001b[0m\u001b[0m\n\u001b[0m\u001b[0;32m    633\u001b[0m \u001b[1;33m\u001b[0m\u001b[0m\n",
      "\u001b[1;32mh5py\\_objects.pyx\u001b[0m in \u001b[0;36mh5py._objects.with_phil.wrapper\u001b[1;34m()\u001b[0m\n",
      "\u001b[1;32mh5py\\_objects.pyx\u001b[0m in \u001b[0;36mh5py._objects.with_phil.wrapper\u001b[1;34m()\u001b[0m\n",
      "\u001b[1;32mh5py\\h5d.pyx\u001b[0m in \u001b[0;36mh5py.h5d.DatasetID.write\u001b[1;34m()\u001b[0m\n",
      "\u001b[1;32mh5py\\_proxy.pyx\u001b[0m in \u001b[0;36mh5py._proxy.dset_rw\u001b[1;34m()\u001b[0m\n",
      "\u001b[1;32mh5py\\_proxy.pyx\u001b[0m in \u001b[0;36mh5py._proxy.H5PY_H5Dwrite\u001b[1;34m()\u001b[0m\n",
      "\u001b[1;31mOSError\u001b[0m: Can't prepare for writing data (file write failed: time = Sat Jul 31 20:04:11 2021\n, filename = 'vegetable.h5', file descriptor = 4, errno = 28, error message = 'No space left on device', buf = 000001472AD52040, total write size = 15745024, bytes this sub-write = 15745024, bytes actually written = 18446744073709551615, offset = 19408)",
      "\nDuring handling of the above exception, another exception occurred:\n",
      "\u001b[1;31mRuntimeError\u001b[0m                              Traceback (most recent call last)",
      "\u001b[1;32m<ipython-input-20-fa8a3344a2e2>\u001b[0m in \u001b[0;36m<module>\u001b[1;34m\u001b[0m\n\u001b[1;32m----> 1\u001b[1;33m \u001b[0mmodel\u001b[0m\u001b[1;33m.\u001b[0m\u001b[0msave\u001b[0m\u001b[1;33m(\u001b[0m\u001b[1;34m\"vegetable.h5\"\u001b[0m\u001b[1;33m)\u001b[0m\u001b[1;33m\u001b[0m\u001b[1;33m\u001b[0m\u001b[0m\n\u001b[0m",
      "\u001b[1;32m~\\Anaconda3\\lib\\site-packages\\tensorflow\\python\\keras\\engine\\network.py\u001b[0m in \u001b[0;36msave\u001b[1;34m(self, filepath, overwrite, include_optimizer, save_format)\u001b[0m\n\u001b[0;32m   1209\u001b[0m     \u001b[0;31m`\u001b[0m\u001b[0;31m`\u001b[0m\u001b[0;31m`\u001b[0m\u001b[1;33m\u001b[0m\u001b[1;33m\u001b[0m\u001b[0m\n\u001b[0;32m   1210\u001b[0m     \"\"\"\n\u001b[1;32m-> 1211\u001b[1;33m     \u001b[0msaving\u001b[0m\u001b[1;33m.\u001b[0m\u001b[0msave_model\u001b[0m\u001b[1;33m(\u001b[0m\u001b[0mself\u001b[0m\u001b[1;33m,\u001b[0m \u001b[0mfilepath\u001b[0m\u001b[1;33m,\u001b[0m \u001b[0moverwrite\u001b[0m\u001b[1;33m,\u001b[0m \u001b[0minclude_optimizer\u001b[0m\u001b[1;33m,\u001b[0m \u001b[0msave_format\u001b[0m\u001b[1;33m)\u001b[0m\u001b[1;33m\u001b[0m\u001b[1;33m\u001b[0m\u001b[0m\n\u001b[0m\u001b[0;32m   1212\u001b[0m \u001b[1;33m\u001b[0m\u001b[0m\n\u001b[0;32m   1213\u001b[0m   \u001b[1;32mdef\u001b[0m \u001b[0msave_weights\u001b[0m\u001b[1;33m(\u001b[0m\u001b[0mself\u001b[0m\u001b[1;33m,\u001b[0m \u001b[0mfilepath\u001b[0m\u001b[1;33m,\u001b[0m \u001b[0moverwrite\u001b[0m\u001b[1;33m=\u001b[0m\u001b[1;32mTrue\u001b[0m\u001b[1;33m,\u001b[0m \u001b[0msave_format\u001b[0m\u001b[1;33m=\u001b[0m\u001b[1;32mNone\u001b[0m\u001b[1;33m)\u001b[0m\u001b[1;33m:\u001b[0m\u001b[1;33m\u001b[0m\u001b[1;33m\u001b[0m\u001b[0m\n",
      "\u001b[1;32m~\\Anaconda3\\lib\\site-packages\\tensorflow\\python\\keras\\saving\\save.py\u001b[0m in \u001b[0;36msave_model\u001b[1;34m(model, filepath, overwrite, include_optimizer, save_format)\u001b[0m\n\u001b[0;32m    111\u001b[0m           'or using `save_weights`.')\n\u001b[0;32m    112\u001b[0m     hdf5_format.save_model_to_hdf5(\n\u001b[1;32m--> 113\u001b[1;33m         model, filepath, overwrite, include_optimizer)\n\u001b[0m\u001b[0;32m    114\u001b[0m     \u001b[1;32mreturn\u001b[0m\u001b[1;33m\u001b[0m\u001b[1;33m\u001b[0m\u001b[0m\n\u001b[0;32m    115\u001b[0m \u001b[1;33m\u001b[0m\u001b[0m\n",
      "\u001b[1;32m~\\Anaconda3\\lib\\site-packages\\tensorflow\\python\\keras\\saving\\hdf5_format.py\u001b[0m in \u001b[0;36msave_model_to_hdf5\u001b[1;34m(model, filepath, overwrite, include_optimizer)\u001b[0m\n\u001b[0;32m    137\u001b[0m   \u001b[1;32mfinally\u001b[0m\u001b[1;33m:\u001b[0m\u001b[1;33m\u001b[0m\u001b[1;33m\u001b[0m\u001b[0m\n\u001b[0;32m    138\u001b[0m     \u001b[1;32mif\u001b[0m \u001b[0mopened_new_file\u001b[0m\u001b[1;33m:\u001b[0m\u001b[1;33m\u001b[0m\u001b[1;33m\u001b[0m\u001b[0m\n\u001b[1;32m--> 139\u001b[1;33m       \u001b[0mf\u001b[0m\u001b[1;33m.\u001b[0m\u001b[0mclose\u001b[0m\u001b[1;33m(\u001b[0m\u001b[1;33m)\u001b[0m\u001b[1;33m\u001b[0m\u001b[1;33m\u001b[0m\u001b[0m\n\u001b[0m\u001b[0;32m    140\u001b[0m \u001b[1;33m\u001b[0m\u001b[0m\n\u001b[0;32m    141\u001b[0m \u001b[1;33m\u001b[0m\u001b[0m\n",
      "\u001b[1;32m~\\Anaconda3\\lib\\site-packages\\h5py\\_hl\\files.py\u001b[0m in \u001b[0;36mclose\u001b[1;34m(self)\u001b[0m\n\u001b[0;32m    340\u001b[0m                 \u001b[1;32mfor\u001b[0m \u001b[0mid_\u001b[0m \u001b[1;32min\u001b[0m \u001b[0mfile_list\u001b[0m\u001b[1;33m:\u001b[0m\u001b[1;33m\u001b[0m\u001b[1;33m\u001b[0m\u001b[0m\n\u001b[0;32m    341\u001b[0m                     \u001b[1;32mwhile\u001b[0m \u001b[0mid_\u001b[0m\u001b[1;33m.\u001b[0m\u001b[0mvalid\u001b[0m\u001b[1;33m:\u001b[0m\u001b[1;33m\u001b[0m\u001b[1;33m\u001b[0m\u001b[0m\n\u001b[1;32m--> 342\u001b[1;33m                         \u001b[0mh5i\u001b[0m\u001b[1;33m.\u001b[0m\u001b[0mdec_ref\u001b[0m\u001b[1;33m(\u001b[0m\u001b[0mid_\u001b[0m\u001b[1;33m)\u001b[0m\u001b[1;33m\u001b[0m\u001b[1;33m\u001b[0m\u001b[0m\n\u001b[0m\u001b[0;32m    343\u001b[0m \u001b[1;33m\u001b[0m\u001b[0m\n\u001b[0;32m    344\u001b[0m                 \u001b[0mself\u001b[0m\u001b[1;33m.\u001b[0m\u001b[0mid\u001b[0m\u001b[1;33m.\u001b[0m\u001b[0mclose\u001b[0m\u001b[1;33m(\u001b[0m\u001b[1;33m)\u001b[0m\u001b[1;33m\u001b[0m\u001b[1;33m\u001b[0m\u001b[0m\n",
      "\u001b[1;32mh5py\\_objects.pyx\u001b[0m in \u001b[0;36mh5py._objects.with_phil.wrapper\u001b[1;34m()\u001b[0m\n",
      "\u001b[1;32mh5py\\_objects.pyx\u001b[0m in \u001b[0;36mh5py._objects.with_phil.wrapper\u001b[1;34m()\u001b[0m\n",
      "\u001b[1;32mh5py\\h5i.pyx\u001b[0m in \u001b[0;36mh5py.h5i.dec_ref\u001b[1;34m()\u001b[0m\n",
      "\u001b[1;31mRuntimeError\u001b[0m: Can't decrement id ref count (unable to extend file properly)"
     ]
    }
   ],
   "source": [
    "model.save(\"vegetable.h5\")"
   ]
  },
  {
   "cell_type": "code",
   "execution_count": null,
   "metadata": {},
   "outputs": [],
   "source": []
  }
 ],
 "metadata": {
  "kernelspec": {
   "display_name": "Python 3",
   "language": "python",
   "name": "python3"
  },
  "language_info": {
   "codemirror_mode": {
    "name": "ipython",
    "version": 3
   },
   "file_extension": ".py",
   "mimetype": "text/x-python",
   "name": "python",
   "nbconvert_exporter": "python",
   "pygments_lexer": "ipython3",
   "version": "3.7.3"
  }
 },
 "nbformat": 4,
 "nbformat_minor": 2
}
